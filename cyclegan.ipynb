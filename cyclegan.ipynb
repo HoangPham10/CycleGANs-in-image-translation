{
 "cells": [
  {
   "cell_type": "code",
   "execution_count": 1,
   "id": "0d847031",
   "metadata": {
    "_cell_guid": "b1076dfc-b9ad-4769-8c92-a6c4dae69d19",
    "_uuid": "8f2839f25d086af736a60e9eeb907d3b93b6e0e5",
    "execution": {
     "iopub.execute_input": "2024-02-15T11:19:47.220704Z",
     "iopub.status.busy": "2024-02-15T11:19:47.220375Z",
     "iopub.status.idle": "2024-02-15T11:19:50.013663Z",
     "shell.execute_reply": "2024-02-15T11:19:50.012410Z"
    },
    "papermill": {
     "duration": 2.803652,
     "end_time": "2024-02-15T11:19:50.016066",
     "exception": false,
     "start_time": "2024-02-15T11:19:47.212414",
     "status": "completed"
    },
    "tags": []
   },
   "outputs": [],
   "source": [
    "!mkdir exp\n",
    "!mkdir visualization\n",
    "!mkdir weights"
   ]
  },
  {
   "cell_type": "code",
   "execution_count": 2,
   "id": "2056cc2f",
   "metadata": {
    "execution": {
     "iopub.execute_input": "2024-02-15T11:19:50.030802Z",
     "iopub.status.busy": "2024-02-15T11:19:50.029984Z",
     "iopub.status.idle": "2024-02-15T11:19:51.900866Z",
     "shell.execute_reply": "2024-02-15T11:19:51.899573Z"
    },
    "papermill": {
     "duration": 1.881388,
     "end_time": "2024-02-15T11:19:51.904002",
     "exception": false,
     "start_time": "2024-02-15T11:19:50.022614",
     "status": "completed"
    },
    "tags": []
   },
   "outputs": [],
   "source": [
    "!mkdir model\n",
    "!mkdir model/layers"
   ]
  },
  {
   "cell_type": "markdown",
   "id": "8003516f",
   "metadata": {
    "papermill": {
     "duration": 0.007163,
     "end_time": "2024-02-15T11:19:51.921084",
     "exception": false,
     "start_time": "2024-02-15T11:19:51.913921",
     "status": "completed"
    },
    "tags": []
   },
   "source": [
    "#### ContractingBlock.py"
   ]
  },
  {
   "cell_type": "code",
   "execution_count": 3,
   "id": "dff7d82e",
   "metadata": {
    "execution": {
     "iopub.execute_input": "2024-02-15T11:19:51.937491Z",
     "iopub.status.busy": "2024-02-15T11:19:51.937132Z",
     "iopub.status.idle": "2024-02-15T11:19:51.944521Z",
     "shell.execute_reply": "2024-02-15T11:19:51.943715Z"
    },
    "papermill": {
     "duration": 0.016659,
     "end_time": "2024-02-15T11:19:51.946494",
     "exception": false,
     "start_time": "2024-02-15T11:19:51.929835",
     "status": "completed"
    },
    "tags": []
   },
   "outputs": [
    {
     "name": "stdout",
     "output_type": "stream",
     "text": [
      "Writing model/layers/ContractingBlock.py\n"
     ]
    }
   ],
   "source": [
    "%%writefile model/layers/ContractingBlock.py\n",
    "from torch import nn\n",
    "\n",
    "class ContractingBlock(nn.Module):\n",
    "    def __init__(self, input_channels, use_bn=True, kernel_size=3, activation='relu'):\n",
    "        super(ContractingBlock, self).__init__()\n",
    "        self.conv1 = nn.Conv2d(input_channels, input_channels * 2, kernel_size=kernel_size, padding=1, stride=2, padding_mode='reflect')\n",
    "        self.activation = nn.ReLU() if activation == 'relu' else nn.LeakyReLU(0.2)\n",
    "        if use_bn:\n",
    "            self.instancenorm = nn.InstanceNorm2d(input_channels * 2)\n",
    "        self.use_bn = use_bn\n",
    "\n",
    "    def forward(self, x):\n",
    "        '''\n",
    "        Function for completing a forward pass of ContractingBlock: \n",
    "        Given an image tensor, completes a contracting block and returns the transformed tensor.\n",
    "        Parameters:\n",
    "            x: image tensor of shape (batch size, channels, height, width)\n",
    "        '''\n",
    "        x = self.conv1(x)\n",
    "        if self.use_bn:\n",
    "            x = self.instancenorm(x)\n",
    "        x = self.activation(x)\n",
    "        return x"
   ]
  },
  {
   "cell_type": "markdown",
   "id": "fef217f8",
   "metadata": {
    "papermill": {
     "duration": 0.005876,
     "end_time": "2024-02-15T11:19:51.958469",
     "exception": false,
     "start_time": "2024-02-15T11:19:51.952593",
     "status": "completed"
    },
    "tags": []
   },
   "source": [
    "#### ExpandingBlock.py"
   ]
  },
  {
   "cell_type": "code",
   "execution_count": 4,
   "id": "9447f962",
   "metadata": {
    "execution": {
     "iopub.execute_input": "2024-02-15T11:19:51.971821Z",
     "iopub.status.busy": "2024-02-15T11:19:51.971564Z",
     "iopub.status.idle": "2024-02-15T11:19:51.977083Z",
     "shell.execute_reply": "2024-02-15T11:19:51.976279Z"
    },
    "papermill": {
     "duration": 0.014524,
     "end_time": "2024-02-15T11:19:51.978981",
     "exception": false,
     "start_time": "2024-02-15T11:19:51.964457",
     "status": "completed"
    },
    "tags": []
   },
   "outputs": [
    {
     "name": "stdout",
     "output_type": "stream",
     "text": [
      "Writing model/layers/ExpandingBlock.py\n"
     ]
    }
   ],
   "source": [
    "%%writefile model/layers/ExpandingBlock.py\n",
    "from torch import nn\n",
    "\n",
    "class ExpandingBlock(nn.Module):\n",
    "    def __init__(self, input_channels, use_bn=True):\n",
    "        super(ExpandingBlock, self).__init__()\n",
    "        self.conv1 = nn.ConvTranspose2d(input_channels, input_channels // 2, kernel_size=3, stride=2, padding=1, output_padding=1)\n",
    "        if use_bn:\n",
    "            self.instancenorm = nn.InstanceNorm2d(input_channels // 2)\n",
    "        self.use_bn = use_bn\n",
    "        self.activation = nn.ReLU()\n",
    "\n",
    "    def forward(self, x):\n",
    "        '''\n",
    "        Function for completing a forward pass of ExpandingBlock: \n",
    "        Given an image tensor, completes an expanding block and returns the transformed tensor.\n",
    "        Parameters:\n",
    "            x: image tensor of shape (batch size, channels, height, width)\n",
    "            skip_con_x: the image tensor from the contracting path (from the opposing block of x)\n",
    "                    for the skip connection\n",
    "        '''\n",
    "        x = self.conv1(x)\n",
    "        if self.use_bn:\n",
    "            x = self.instancenorm(x)\n",
    "        x = self.activation(x)\n",
    "        return x"
   ]
  },
  {
   "cell_type": "markdown",
   "id": "d89a063c",
   "metadata": {
    "papermill": {
     "duration": 0.006034,
     "end_time": "2024-02-15T11:19:51.991200",
     "exception": false,
     "start_time": "2024-02-15T11:19:51.985166",
     "status": "completed"
    },
    "tags": []
   },
   "source": [
    "#### ResidualBlock.py"
   ]
  },
  {
   "cell_type": "code",
   "execution_count": 5,
   "id": "df6f21ad",
   "metadata": {
    "execution": {
     "iopub.execute_input": "2024-02-15T11:19:52.004712Z",
     "iopub.status.busy": "2024-02-15T11:19:52.004453Z",
     "iopub.status.idle": "2024-02-15T11:19:52.010180Z",
     "shell.execute_reply": "2024-02-15T11:19:52.009133Z"
    },
    "papermill": {
     "duration": 0.01507,
     "end_time": "2024-02-15T11:19:52.012608",
     "exception": false,
     "start_time": "2024-02-15T11:19:51.997538",
     "status": "completed"
    },
    "tags": []
   },
   "outputs": [
    {
     "name": "stdout",
     "output_type": "stream",
     "text": [
      "Writing model/layers/ResidualBlock.py\n"
     ]
    }
   ],
   "source": [
    "%%writefile model/layers/ResidualBlock.py\n",
    "from torch import nn\n",
    "\n",
    "class ResidualBlock(nn.Module):\n",
    "\n",
    "    def __init__(self, input_channels):\n",
    "        super(ResidualBlock, self).__init__()\n",
    "        self.conv1 = nn.Conv2d(input_channels, input_channels, kernel_size=3, padding=1, padding_mode='reflect')\n",
    "        self.conv2 = nn.Conv2d(input_channels, input_channels, kernel_size=3, padding=1, padding_mode='reflect')\n",
    "        self.instancenorm = nn.InstanceNorm2d(input_channels)\n",
    "        self.activation = nn.ReLU()\n",
    "\n",
    "    def forward(self, x):\n",
    "        '''\n",
    "        Function for completing a forward pass of ResidualBlock: \n",
    "        Given an image tensor, completes a residual block and returns the transformed tensor.\n",
    "        Parameters:\n",
    "            x: image tensor of shape (batch size, channels, height, width)\n",
    "        '''\n",
    "        original_x = x.clone()\n",
    "        x = self.conv1(x)\n",
    "        x = self.instancenorm(x)\n",
    "        x = self.activation(x)\n",
    "        x = self.conv2(x)\n",
    "        x = self.instancenorm(x)\n",
    "        return original_x + x"
   ]
  },
  {
   "cell_type": "markdown",
   "id": "acf03829",
   "metadata": {
    "papermill": {
     "duration": 0.00843,
     "end_time": "2024-02-15T11:19:52.029943",
     "exception": false,
     "start_time": "2024-02-15T11:19:52.021513",
     "status": "completed"
    },
    "tags": []
   },
   "source": [
    "#### Discriminator.py"
   ]
  },
  {
   "cell_type": "code",
   "execution_count": 6,
   "id": "d6a4a6aa",
   "metadata": {
    "execution": {
     "iopub.execute_input": "2024-02-15T11:19:52.048084Z",
     "iopub.status.busy": "2024-02-15T11:19:52.047543Z",
     "iopub.status.idle": "2024-02-15T11:19:52.053936Z",
     "shell.execute_reply": "2024-02-15T11:19:52.052873Z"
    },
    "papermill": {
     "duration": 0.017439,
     "end_time": "2024-02-15T11:19:52.056076",
     "exception": false,
     "start_time": "2024-02-15T11:19:52.038637",
     "status": "completed"
    },
    "tags": []
   },
   "outputs": [
    {
     "name": "stdout",
     "output_type": "stream",
     "text": [
      "Writing model/Discriminator.py\n"
     ]
    }
   ],
   "source": [
    "%%writefile model/Discriminator.py\n",
    "from torch import nn\n",
    "from model.layers.ContractingBlock import ContractingBlock\n",
    "\n",
    "class Discriminator(nn.Module):\n",
    "    '''\n",
    "    Discriminator Class\n",
    "    Structured like the contracting path of the U-Net, the discriminator will\n",
    "    output a matrix of values classifying corresponding portions of the image as real or fake. \n",
    "    Parameters:\n",
    "        input_channels: the number of image input channels\n",
    "        hidden_channels: the initial number of discriminator convolutional filters\n",
    "    '''\n",
    "    def __init__(self, input_channels, hidden_channels=64):\n",
    "        super(Discriminator, self).__init__()\n",
    "        self.upfeature = nn.Conv2d(input_channels, hidden_channels, kernel_size=7, padding=3, padding_mode='reflect')\n",
    "        self.contract1 = ContractingBlock(hidden_channels, use_bn=False, kernel_size=4, activation='lrelu')\n",
    "        self.contract2 = ContractingBlock(hidden_channels * 2, kernel_size=4, activation='lrelu')\n",
    "        self.contract3 = ContractingBlock(hidden_channels * 4, kernel_size=4, activation='lrelu')\n",
    "        self.final = nn.Conv2d(hidden_channels * 8, 1, kernel_size=1)\n",
    "\n",
    "    def forward(self, x):\n",
    "        x0 = self.upfeature(x)\n",
    "        x1 = self.contract1(x0)\n",
    "        x2 = self.contract2(x1)\n",
    "        x3 = self.contract3(x2)\n",
    "        xn = self.final(x3)\n",
    "        return xn"
   ]
  },
  {
   "cell_type": "markdown",
   "id": "258d60c4",
   "metadata": {
    "papermill": {
     "duration": 0.009064,
     "end_time": "2024-02-15T11:19:52.073942",
     "exception": false,
     "start_time": "2024-02-15T11:19:52.064878",
     "status": "completed"
    },
    "tags": []
   },
   "source": [
    "#### Generator.py"
   ]
  },
  {
   "cell_type": "code",
   "execution_count": 7,
   "id": "09945b59",
   "metadata": {
    "execution": {
     "iopub.execute_input": "2024-02-15T11:19:52.096188Z",
     "iopub.status.busy": "2024-02-15T11:19:52.095756Z",
     "iopub.status.idle": "2024-02-15T11:19:52.103887Z",
     "shell.execute_reply": "2024-02-15T11:19:52.102975Z"
    },
    "papermill": {
     "duration": 0.022286,
     "end_time": "2024-02-15T11:19:52.105929",
     "exception": false,
     "start_time": "2024-02-15T11:19:52.083643",
     "status": "completed"
    },
    "tags": []
   },
   "outputs": [
    {
     "name": "stdout",
     "output_type": "stream",
     "text": [
      "Writing model/Generator.py\n"
     ]
    }
   ],
   "source": [
    "%%writefile model/Generator.py\n",
    "from torch import nn\n",
    "from model.layers.ContractingBlock import ContractingBlock\n",
    "from model.layers.ResidualBlock import ResidualBlock\n",
    "from model.layers.ExpandingBlock import ExpandingBlock\n",
    "\n",
    "class Generator(nn.Module):\n",
    "    '''\n",
    "    Generator Class\n",
    "    A series of 2 contracting blocks, 9 residual blocks, and 2 expanding blocks to \n",
    "    transform an input image into an image from the other class, with an upfeature\n",
    "    layer at the start and a downfeature layer at the end.\n",
    "    Values:\n",
    "        input_channels: the number of channels to expect from a given input\n",
    "        output_channels: the number of channels to expect for a given output\n",
    "    '''\n",
    "    def __init__(self, input_channels, output_channels, hidden_channels=64):\n",
    "        super(Generator, self).__init__()\n",
    "        self.upfeature = nn.Conv2d(input_channels, hidden_channels, kernel_size=7, padding=3, padding_mode='reflect')\n",
    "        self.contract1 = ContractingBlock(hidden_channels)\n",
    "        self.contract2 = ContractingBlock(hidden_channels * 2)\n",
    "        res_mult = 4\n",
    "        self.res0 = ResidualBlock(hidden_channels * res_mult)\n",
    "        self.res1 = ResidualBlock(hidden_channels * res_mult)\n",
    "        self.res2 = ResidualBlock(hidden_channels * res_mult)\n",
    "        self.res3 = ResidualBlock(hidden_channels * res_mult)\n",
    "        self.res4 = ResidualBlock(hidden_channels * res_mult)\n",
    "        self.res5 = ResidualBlock(hidden_channels * res_mult)\n",
    "        self.res6 = ResidualBlock(hidden_channels * res_mult)\n",
    "        self.res7 = ResidualBlock(hidden_channels * res_mult)\n",
    "        self.res8 = ResidualBlock(hidden_channels * res_mult)\n",
    "        self.expand2 = ExpandingBlock(hidden_channels * 4)\n",
    "        self.expand3 = ExpandingBlock(hidden_channels * 2)\n",
    "        self.downfeature =  nn.Conv2d(hidden_channels, output_channels, kernel_size=7, padding=3, padding_mode='reflect')\n",
    "        self.tanh = nn.Tanh()\n",
    "\n",
    "    def forward(self, x):\n",
    "        '''\n",
    "        Function for completing a forward pass of Generator: \n",
    "        Given an image tensor, passes it through the U-Net with residual blocks\n",
    "        and returns the output.\n",
    "        Parameters:\n",
    "            x: image tensor of shape (batch size, channels, height, width)\n",
    "        '''\n",
    "        x0 = self.upfeature(x)\n",
    "        x1 = self.contract1(x0)\n",
    "        x2 = self.contract2(x1)\n",
    "        x3 = self.res0(x2)\n",
    "        x4 = self.res1(x3)\n",
    "        x5 = self.res2(x4)\n",
    "        x6 = self.res3(x5)\n",
    "        x7 = self.res4(x6)\n",
    "        x8 = self.res5(x7)\n",
    "        x9 = self.res6(x8)\n",
    "        x10 = self.res7(x9)\n",
    "        x11 = self.res8(x10)\n",
    "        x12 = self.expand2(x11)\n",
    "        x13 = self.expand3(x12)\n",
    "        xn = self.downfeature(x13)\n",
    "        return self.tanh(xn)"
   ]
  },
  {
   "cell_type": "code",
   "execution_count": 8,
   "id": "239cab61",
   "metadata": {
    "execution": {
     "iopub.execute_input": "2024-02-15T11:19:52.122235Z",
     "iopub.status.busy": "2024-02-15T11:19:52.121915Z",
     "iopub.status.idle": "2024-02-15T11:19:52.127112Z",
     "shell.execute_reply": "2024-02-15T11:19:52.126222Z"
    },
    "papermill": {
     "duration": 0.01609,
     "end_time": "2024-02-15T11:19:52.129077",
     "exception": false,
     "start_time": "2024-02-15T11:19:52.112987",
     "status": "completed"
    },
    "tags": []
   },
   "outputs": [
    {
     "name": "stdout",
     "output_type": "stream",
     "text": [
      "Writing config.py\n"
     ]
    }
   ],
   "source": [
    "%%writefile config.py\n",
    "TRAIN_DIR = '/kaggle/input/day-night-gan/data'"
   ]
  },
  {
   "cell_type": "code",
   "execution_count": 9,
   "id": "a13eb3dd",
   "metadata": {
    "execution": {
     "iopub.execute_input": "2024-02-15T11:19:52.143070Z",
     "iopub.status.busy": "2024-02-15T11:19:52.142821Z",
     "iopub.status.idle": "2024-02-15T11:19:52.148171Z",
     "shell.execute_reply": "2024-02-15T11:19:52.147435Z"
    },
    "papermill": {
     "duration": 0.014618,
     "end_time": "2024-02-15T11:19:52.150188",
     "exception": false,
     "start_time": "2024-02-15T11:19:52.135570",
     "status": "completed"
    },
    "tags": []
   },
   "outputs": [
    {
     "name": "stdout",
     "output_type": "stream",
     "text": [
      "Writing dataset.py\n"
     ]
    }
   ],
   "source": [
    "%%writefile dataset.py\n",
    "import os\n",
    "import glob\n",
    "from PIL import Image\n",
    "import torch\n",
    "import random\n",
    "from torch.utils.data import Dataset\n",
    "\n",
    "class ImageDataset(Dataset):\n",
    "    def __init__(self, root, transforms=None, mode='train'):\n",
    "        self.transforms = transforms\n",
    "        self.day = sorted(glob.glob(os.path.join(root, 'day', '*.jpg')))\n",
    "        self.night = sorted(glob.glob(os.path.join(root, 'night', '*.jpg')))\n",
    "        assert len(self.day) > 0, \"Make sure you downloaded the images!\"\n",
    "\n",
    "\n",
    "    def __getitem__(self, index):\n",
    "        if index >= len(self.day):\n",
    "            day_path = random.choice(self.day)\n",
    "            night_path = self.night[index]\n",
    "        elif index >= len(self.night):\n",
    "            day_path = self.day[index]\n",
    "            night_path = random.choice(self.night)\n",
    "        else:\n",
    "            day_path = self.day[index]\n",
    "            night_path = self.night[index]\n",
    "            \n",
    "        day, night = Image.open(day_path).convert('RGB'), Image.open(night_path).convert('RGB')\n",
    "        if self.transforms is not None:\n",
    "            day, night = self.transforms(day), self.transforms(night)\n",
    "         \n",
    "        return (day - 0.5) * 2, (night - 0.5) * 2\n",
    "\n",
    "    def __len__(self):\n",
    "        return max(len(self.day), len(self.night))"
   ]
  },
  {
   "cell_type": "markdown",
   "id": "d4ae4060",
   "metadata": {
    "papermill": {
     "duration": 0.006376,
     "end_time": "2024-02-15T11:19:52.163157",
     "exception": false,
     "start_time": "2024-02-15T11:19:52.156781",
     "status": "completed"
    },
    "tags": []
   },
   "source": [
    "#### loss.py"
   ]
  },
  {
   "cell_type": "code",
   "execution_count": 10,
   "id": "3a7821ff",
   "metadata": {
    "execution": {
     "iopub.execute_input": "2024-02-15T11:19:52.177588Z",
     "iopub.status.busy": "2024-02-15T11:19:52.177286Z",
     "iopub.status.idle": "2024-02-15T11:19:52.185865Z",
     "shell.execute_reply": "2024-02-15T11:19:52.185053Z"
    },
    "papermill": {
     "duration": 0.018292,
     "end_time": "2024-02-15T11:19:52.187900",
     "exception": false,
     "start_time": "2024-02-15T11:19:52.169608",
     "status": "completed"
    },
    "tags": []
   },
   "outputs": [
    {
     "name": "stdout",
     "output_type": "stream",
     "text": [
      "Writing loss.py\n"
     ]
    }
   ],
   "source": [
    "%%writefile loss.py\n",
    "import torch\n",
    "\n",
    "def get_disc_loss(real_X, fake_X, disc_X, adv_criterion):\n",
    "    '''\n",
    "    Return the loss of the discriminator given inputs.\n",
    "    Parameters:\n",
    "        real_X: the real images from pile X\n",
    "        fake_X: the generated images of class X\n",
    "        disc_X: the discriminator for class X; takes images and returns real/fake class X\n",
    "            prediction matrices\n",
    "        adv_criterion: the adversarial loss function; takes the discriminator \n",
    "            predictions and the target labels and returns a adversarial \n",
    "            loss (which you aim to minimize)\n",
    "    '''\n",
    "    disc_fake_X_hat = disc_X(fake_X.detach()) # Detach generator\n",
    "    disc_fake_X_loss = adv_criterion(disc_fake_X_hat, torch.zeros_like(disc_fake_X_hat))\n",
    "    disc_real_X_hat = disc_X(real_X)\n",
    "    disc_real_X_loss = adv_criterion(disc_real_X_hat, torch.ones_like(disc_real_X_hat))\n",
    "    disc_loss = (disc_fake_X_loss + disc_real_X_loss) / 2\n",
    "    return disc_loss\n",
    "\n",
    "\n",
    "def get_gen_adversarial_loss(real_X, disc_Y, gen_XY, adv_criterion):\n",
    "    '''\n",
    "    Return the adversarial loss of the generator given inputs\n",
    "    (and the generated images for testing purposes).\n",
    "    Parameters:\n",
    "        real_X: the real images from pile X\n",
    "        disc_Y: the discriminator for class Y; takes images and returns real/fake class Y\n",
    "            prediction matrices\n",
    "        gen_XY: the generator for class X to Y; takes images and returns the images \n",
    "            transformed to class Y\n",
    "        adv_criterion: the adversarial loss function; takes the discriminator \n",
    "                  predictions and the target labels and returns a adversarial \n",
    "                  loss (which you aim to minimize)\n",
    "    '''\n",
    "    fake_Y = gen_XY(real_X)\n",
    "    disc_fake_Y_hat = disc_Y(fake_Y)\n",
    "    adversarial_loss = adv_criterion(disc_fake_Y_hat, torch.ones_like(disc_fake_Y_hat))\n",
    "    return adversarial_loss, fake_Y\n",
    "\n",
    "\n",
    "def get_identity_loss(real_X, gen_YX, identity_criterion):\n",
    "    '''\n",
    "    Return the identity loss of the generator given inputs\n",
    "    (and the generated images for testing purposes).\n",
    "    Parameters:\n",
    "        real_X: the real images from pile X\n",
    "        gen_YX: the generator for class Y to X; takes images and returns the images \n",
    "            transformed to class X\n",
    "        identity_criterion: the identity loss function; takes the real images from X and\n",
    "                        those images put through a Y->X generator and returns the identity \n",
    "                        loss (which you aim to minimize)\n",
    "    '''\n",
    "    identity_X = gen_YX(real_X)\n",
    "    identity_loss = identity_criterion(identity_X, real_X)\n",
    "    return identity_loss, identity_X\n",
    "\n",
    "\n",
    "def get_cycle_consistency_loss(real_X, fake_Y, gen_YX, cycle_criterion):\n",
    "    '''\n",
    "    Return the cycle consistency loss of the generator given inputs\n",
    "    (and the generated images for testing purposes).\n",
    "    Parameters:\n",
    "        real_X: the real images from pile X\n",
    "        fake_Y: the generated images of class Y\n",
    "        gen_YX: the generator for class Y to X; takes images and returns the images \n",
    "            transformed to class X\n",
    "        cycle_criterion: the cycle consistency loss function; takes the real images from X and\n",
    "                        those images put through a X->Y generator and then Y->X generator\n",
    "                        and returns the cycle consistency loss (which you aim to minimize)\n",
    "    '''\n",
    "    cycle_X = gen_YX(fake_Y)\n",
    "    cycle_loss = cycle_criterion(cycle_X, real_X)\n",
    "    return cycle_loss, cycle_X\n",
    "\n",
    "def get_gen_loss(real_A, real_B, gen_AB, gen_BA, disc_A, disc_B, adv_criterion, identity_criterion, cycle_criterion, lambda_identity=0.1, lambda_cycle=10):\n",
    "    '''\n",
    "    Return the loss of the generator given inputs.\n",
    "    Parameters:\n",
    "        real_A: the real images from pile A\n",
    "        real_B: the real images from pile B\n",
    "        gen_AB: the generator for class A to B; takes images and returns the images \n",
    "            transformed to class B\n",
    "        gen_BA: the generator for class B to A; takes images and returns the images \n",
    "            transformed to class A\n",
    "        disc_A: the discriminator for class A; takes images and returns real/fake class A\n",
    "            prediction matrices\n",
    "        disc_B: the discriminator for class B; takes images and returns real/fake class B\n",
    "            prediction matrices\n",
    "        adv_criterion: the adversarial loss function; takes the discriminator \n",
    "            predictions and the true labels and returns a adversarial \n",
    "            loss (which you aim to minimize)\n",
    "        identity_criterion: the reconstruction loss function used for identity loss\n",
    "            and cycle consistency loss; takes two sets of images and returns\n",
    "            their pixel differences (which you aim to minimize)\n",
    "        cycle_criterion: the cycle consistency loss function; takes the real images from X and\n",
    "            those images put through a X->Y generator and then Y->X generator\n",
    "            and returns the cycle consistency loss (which you aim to minimize).\n",
    "            Note that in practice, cycle_criterion == identity_criterion == L1 loss\n",
    "        lambda_identity: the weight of the identity loss\n",
    "        lambda_cycle: the weight of the cycle-consistency loss\n",
    "    '''\n",
    "    # Hint 1: Make sure you include both directions - you can think of the generators as collaborating\n",
    "    # Hint 2: Don't forget to use the lambdas for the identity loss and cycle loss!\n",
    "    # Adversarial Loss -- get_gen_adversarial_loss(real_X, disc_Y, gen_XY, adv_criterion)\n",
    "    adv_loss_BA, fake_A = get_gen_adversarial_loss(real_B, disc_A, gen_BA, adv_criterion)\n",
    "    adv_loss_AB, fake_B = get_gen_adversarial_loss(real_A, disc_B, gen_AB, adv_criterion)\n",
    "    gen_adversarial_loss = adv_loss_BA + adv_loss_AB\n",
    "\n",
    "    # Identity Loss -- get_identity_loss(real_X, gen_YX, identity_criterion)\n",
    "    identity_loss_A, identity_A = get_identity_loss(real_A, gen_BA, identity_criterion)\n",
    "    identity_loss_B, identity_B = get_identity_loss(real_B, gen_AB, identity_criterion)\n",
    "    gen_identity_loss = identity_loss_A + identity_loss_B\n",
    "\n",
    "    # Cycle-consistency Loss -- get_cycle_consistency_loss(real_X, fake_Y, gen_YX, cycle_criterion)\n",
    "    cycle_loss_BA, cycle_A = get_cycle_consistency_loss(real_A, fake_B, gen_BA, cycle_criterion)\n",
    "    cycle_loss_AB, cycle_B = get_cycle_consistency_loss(real_B, fake_A, gen_AB, cycle_criterion)\n",
    "    gen_cycle_loss = cycle_loss_BA + cycle_loss_AB\n",
    "\n",
    "    # Total loss\n",
    "    gen_loss = lambda_identity * gen_identity_loss + lambda_cycle * gen_cycle_loss + gen_adversarial_loss\n",
    "    return gen_loss, fake_A, fake_B"
   ]
  },
  {
   "cell_type": "markdown",
   "id": "76e4b8ca",
   "metadata": {
    "papermill": {
     "duration": 0.006338,
     "end_time": "2024-02-15T11:19:52.200842",
     "exception": false,
     "start_time": "2024-02-15T11:19:52.194504",
     "status": "completed"
    },
    "tags": []
   },
   "source": [
    "#### utils.py"
   ]
  },
  {
   "cell_type": "code",
   "execution_count": 11,
   "id": "f83a209c",
   "metadata": {
    "execution": {
     "iopub.execute_input": "2024-02-15T11:19:52.215009Z",
     "iopub.status.busy": "2024-02-15T11:19:52.214750Z",
     "iopub.status.idle": "2024-02-15T11:19:52.220191Z",
     "shell.execute_reply": "2024-02-15T11:19:52.219194Z"
    },
    "papermill": {
     "duration": 0.014638,
     "end_time": "2024-02-15T11:19:52.222128",
     "exception": false,
     "start_time": "2024-02-15T11:19:52.207490",
     "status": "completed"
    },
    "tags": []
   },
   "outputs": [
    {
     "name": "stdout",
     "output_type": "stream",
     "text": [
      "Writing utils.py\n"
     ]
    }
   ],
   "source": [
    "%%writefile utils.py\n",
    "from torch import nn\n",
    "from torchvision.utils import make_grid\n",
    "\n",
    "def weights_init(m):\n",
    "    if isinstance(m, nn.Conv2d) or isinstance(m, nn.ConvTranspose2d):\n",
    "        nn.init.normal_(m.weight, 0.0, 0.02)\n",
    "    if isinstance(m, nn.BatchNorm2d):\n",
    "        nn.init.normal_(m.weight, 0.0, 0.02)\n",
    "        nn.init.constant_(m.bias, 0)\n",
    "        \n",
    "\n",
    "\n",
    "def visualize_images(image_tensor, num_images=25, size=(1, 28, 28)):\n",
    "    '''\n",
    "    Function for visualizing images: Given a tensor of images, number of images, and\n",
    "    size per image, plots and prints the images in an uniform grid.\n",
    "    '''\n",
    "    image_tensor = (image_tensor + 1) / 2\n",
    "    image_shifted = image_tensor\n",
    "    image_unflat = image_shifted.detach().cpu().view(-1, *size)\n",
    "    image_grid = make_grid(image_unflat[:num_images], nrow=5)\n",
    "    return image_grid.permute(1, 2, 0).squeeze()"
   ]
  },
  {
   "cell_type": "markdown",
   "id": "ae74a1c3",
   "metadata": {
    "papermill": {
     "duration": 0.008292,
     "end_time": "2024-02-15T11:19:52.237826",
     "exception": false,
     "start_time": "2024-02-15T11:19:52.229534",
     "status": "completed"
    },
    "tags": []
   },
   "source": [
    "#### train.py"
   ]
  },
  {
   "cell_type": "code",
   "execution_count": 12,
   "id": "ee8eca0c",
   "metadata": {
    "execution": {
     "iopub.execute_input": "2024-02-15T11:19:52.256843Z",
     "iopub.status.busy": "2024-02-15T11:19:52.256558Z",
     "iopub.status.idle": "2024-02-15T11:19:52.267132Z",
     "shell.execute_reply": "2024-02-15T11:19:52.266212Z"
    },
    "papermill": {
     "duration": 0.022469,
     "end_time": "2024-02-15T11:19:52.269079",
     "exception": false,
     "start_time": "2024-02-15T11:19:52.246610",
     "status": "completed"
    },
    "tags": []
   },
   "outputs": [
    {
     "name": "stdout",
     "output_type": "stream",
     "text": [
      "Writing train.py\n"
     ]
    }
   ],
   "source": [
    "%%writefile train.py\n",
    "import os\n",
    "import argparse\n",
    "import torch\n",
    "from torch import nn\n",
    "from torch.utils.data import DataLoader\n",
    "import torchvision\n",
    "from torchvision import transforms\n",
    "import cv2\n",
    "import numpy as np\n",
    "import matplotlib.pyplot as plt\n",
    "\n",
    "from tqdm.auto import tqdm\n",
    "\n",
    "from dataset import ImageDataset\n",
    "from config import TRAIN_DIR\n",
    "from model.Generator import Generator\n",
    "from model.Discriminator import Discriminator\n",
    "from utils import weights_init, visualize_images\n",
    "from loss import get_disc_loss, get_gen_loss\n",
    "from torch.utils.tensorboard import SummaryWriter\n",
    "\n",
    "if __name__ == \"__main__\":\n",
    "    #TODO: Create ArgumentParser object \n",
    "    parser = argparse.ArgumentParser(description=\"Training script for Face Identification\")\n",
    "    # Add arguments\n",
    "    parser.add_argument('--epochs', type=int, default=20, help='epochs')\n",
    "    parser.add_argument('--batch_size', type=int, default=1, help='batch_size')\n",
    "    parser.add_argument('--lr', type=float, default=0.001 , help='learning rate')\n",
    "    parser.add_argument('--input_size', type=int, default=600, help='input size image')\n",
    "    parser.add_argument('--logdir', type=str, default='./exp', help='tensorboard')\n",
    "    # Parse the command-line arguments\n",
    "    args = parser.parse_args()\n",
    "\n",
    "    #TODO: Hyper-parameters initialization\n",
    "    print('-------------------- Hyper-parameters initialization -----------------------')\n",
    "    LR, EPOCHS, BATCH_SIZE, INPUT_SIZE  = args.lr, args.epochs, args.batch_size, args.input_size\n",
    "    DEVICE = 'cuda' if torch.cuda.is_available() else 'cpu'\n",
    "    writer = SummaryWriter(log_dir=args.logdir)\n",
    "    print('-------------------- ------------------------------- -----------------------')\n",
    "\n",
    "    #TODO: dataset initialization\n",
    "    print('-------------------- Dataset initialization -----------------------')\n",
    "    train_tfms = transforms.Compose([\n",
    "        transforms.Resize(INPUT_SIZE),\n",
    "        transforms.RandomCrop(INPUT_SIZE),\n",
    "        transforms.RandomHorizontalFlip(),\n",
    "        transforms.ToTensor(),\n",
    "    ])\n",
    "\n",
    "    trainset = ImageDataset(TRAIN_DIR, train_tfms)\n",
    "    trainloader = DataLoader(trainset, batch_size=BATCH_SIZE, shuffle=True)\n",
    "    print(f\"Number of training samples: {trainset.__len__()}\")\n",
    "    print('-------------------- ------------------------------- -----------------------')\n",
    "\n",
    " \n",
    "\n",
    "    #TODO: Model initialization\n",
    "    print('-------------------- Model initialization -----------------------')\n",
    "    gen_AB = Generator(3,3).to(DEVICE)\n",
    "    gen_BA = Generator(3,3).to(DEVICE)\n",
    "    disc_A = Discriminator(3).to(DEVICE)\n",
    "    disc_B = Discriminator(3).to(DEVICE)\n",
    "    gen_AB = gen_AB.apply(weights_init)\n",
    "    gen_BA = gen_BA.apply(weights_init)\n",
    "    disc_A = disc_A.apply(weights_init)\n",
    "    disc_B = disc_B.apply(weights_init)\n",
    "    print('-------------------- ------------------------------- -----------------------')\n",
    "\n",
    "    \n",
    "\n",
    "    #TODO: Optimizer and loss function initialization\n",
    "    print('--------------------  Optimizer and loss function initialization -----------------------')\n",
    "    gen_opt = torch.optim.Adam(list(gen_AB.parameters()) + list(gen_BA.parameters()), lr=LR, betas=(0.5, 0.999))\n",
    "    disc_A_opt = torch.optim.Adam(disc_A.parameters(), lr=LR, betas=(0.5, 0.999))\n",
    "    disc_B_opt = torch.optim.Adam(disc_B.parameters(), lr=LR, betas=(0.5, 0.999))\n",
    "    \n",
    "    adv_criterion = nn.MSELoss() \n",
    "    recon_criterion = nn.L1Loss()\n",
    "    \n",
    "    print('-------------------- ------------------------------- -----------------------')\n",
    "\n",
    "    \n",
    "    #TODO: Train epochs\n",
    "    print('-------------------- Train -----------------------')\n",
    "    best_loss, best_epoch = 10000, 0\n",
    "    for epoch in range(EPOCHS):\n",
    "        discrimination_loss, generator_loss = 0,0\n",
    "        pbar = tqdm(trainloader)\n",
    "        for idx, (real_A, real_B) in enumerate(pbar):\n",
    "            # real_A = nn.functional.interpolate(real_A, size=target_shape)\n",
    "            # real_B = nn.functional.interpolate(real_B, size=target_shape)\n",
    "            batch_size = real_A.shape[0]\n",
    "            real_A = real_A.to(DEVICE)\n",
    "            real_B = real_B.to(DEVICE)\n",
    "\n",
    "            ### Update discriminator A ###\n",
    "            disc_A_opt.zero_grad() # Zero out the gradient before backpropagation\n",
    "            with torch.no_grad():\n",
    "                fake_A = gen_BA(real_B)\n",
    "            disc_A_loss = get_disc_loss(real_A, fake_A, disc_A, adv_criterion)\n",
    "            disc_A_loss.backward(retain_graph=True) # Update gradients\n",
    "            disc_A_opt.step() # Update optimizer\n",
    "\n",
    "            ### Update discriminator B ###\n",
    "            disc_B_opt.zero_grad() # Zero out the gradient before backpropagation\n",
    "            with torch.no_grad():\n",
    "                fake_B = gen_AB(real_A)\n",
    "            disc_B_loss = get_disc_loss(real_B, fake_B, disc_B, adv_criterion)\n",
    "            disc_B_loss.backward(retain_graph=True) # Update gradients\n",
    "            disc_B_opt.step() # Update optimizer\n",
    "\n",
    "            ### Update generator ###\n",
    "            gen_opt.zero_grad()\n",
    "            gen_loss, fake_A, fake_B = get_gen_loss(\n",
    "                real_A, real_B, gen_AB, gen_BA, disc_A, disc_B, adv_criterion, recon_criterion, recon_criterion\n",
    "            )\n",
    "            gen_loss.backward() # Update gradients\n",
    "            gen_opt.step() # Update optimizer\n",
    "\n",
    "            # Keep track of the average discriminator loss\n",
    "            discrimination_loss += disc_A_loss.item() \n",
    "            # Keep track of the average generator loss\n",
    "            generator_loss += gen_loss.item() \n",
    "            \n",
    "            pbar.set_description(f\"Epoch {epoch+1}: Iteration {idx+1}/{len(trainloader)}: Generator (U-Net) loss: {generator_loss/(idx+1)}, Discriminator loss: {discrimination_loss/(idx+1)}\")\n",
    "        \n",
    "        writer.add_scalar('Loss/discrimination', discrimination_loss/len(trainloader),global_step=epoch+1)\n",
    "        writer.add_scalar('Loss/generator', generator_loss/len(trainloader), global_step=epoch+1)\n",
    "        \n",
    "        \n",
    "            \n",
    "        real_img = visualize_images(torch.cat([real_A, real_B]), size=(3, INPUT_SIZE, INPUT_SIZE)).numpy()\n",
    "        fake_img = visualize_images(torch.cat([fake_B, fake_A]), size=(3, INPUT_SIZE, INPUT_SIZE)).numpy()\n",
    "        #print(real_img.shape, real_img.max(), real_img.min())\n",
    "        real_img = (real_img*255).astype(np.uint8)\n",
    "        fake_img = (fake_img*255).astype(np.uint8)\n",
    "        img = cv2.vconcat([cv2.cvtColor(real_img, cv2.COLOR_RGB2BGR), cv2.cvtColor(fake_img, cv2.COLOR_RGB2BGR)])\n",
    "        cv2.imwrite(os.path.join('./visualization', f\"{epoch+1}.jpg\"), img)\n",
    "        # writer.add_image('images', img, global_step=epoch)\n",
    "                # You can change save_model to True if you'd like to save the model\n",
    "        \n",
    "        torch.save({\n",
    "            'gen_AB': gen_AB.state_dict(),\n",
    "            'gen_BA': gen_BA.state_dict(),\n",
    "            'gen_opt': gen_opt.state_dict(),\n",
    "            'disc_A': disc_A.state_dict(),\n",
    "            'disc_A_opt': disc_A_opt.state_dict(),\n",
    "            'disc_B': disc_B.state_dict(),\n",
    "            'disc_B_opt': disc_B_opt.state_dict()\n",
    "        }, f\"./weights/cycleGAN_last.pth\")\n",
    "        \n",
    "        if best_loss > (discrimination_loss + generator_loss) / len(trainloader):\n",
    "            best_loss = (discrimination_loss + generator_loss) / len(trainloader)\n",
    "            best_epoch = epoch\n",
    "            torch.save({\n",
    "                    'gen_AB': gen_AB.state_dict(),\n",
    "                    'gen_BA': gen_BA.state_dict(),\n",
    "                    'gen_opt': gen_opt.state_dict(),\n",
    "                    'disc_A': disc_A.state_dict(),\n",
    "                    'disc_A_opt': disc_A_opt.state_dict(),\n",
    "                    'disc_B': disc_B.state_dict(),\n",
    "                    'disc_B_opt': disc_B_opt.state_dict()\n",
    "                }, f\"./weights/cycleGAN_best.pth\")\n",
    "                \n",
    "        if best_epoch - epoch > 5:\n",
    "            break"
   ]
  },
  {
   "cell_type": "code",
   "execution_count": 13,
   "id": "bebf6ee2",
   "metadata": {
    "execution": {
     "iopub.execute_input": "2024-02-15T11:19:52.284294Z",
     "iopub.status.busy": "2024-02-15T11:19:52.284031Z",
     "iopub.status.idle": "2024-02-15T16:52:37.041668Z",
     "shell.execute_reply": "2024-02-15T16:52:37.040390Z"
    },
    "papermill": {
     "duration": 19964.76819,
     "end_time": "2024-02-15T16:52:37.044143",
     "exception": false,
     "start_time": "2024-02-15T11:19:52.275953",
     "status": "completed"
    },
    "tags": []
   },
   "outputs": [
    {
     "name": "stdout",
     "output_type": "stream",
     "text": [
      "2024-02-15 11:20:02.288399: E external/local_xla/xla/stream_executor/cuda/cuda_dnn.cc:9261] Unable to register cuDNN factory: Attempting to register factory for plugin cuDNN when one has already been registered\r\n",
      "2024-02-15 11:20:02.288511: E external/local_xla/xla/stream_executor/cuda/cuda_fft.cc:607] Unable to register cuFFT factory: Attempting to register factory for plugin cuFFT when one has already been registered\r\n",
      "2024-02-15 11:20:02.406087: E external/local_xla/xla/stream_executor/cuda/cuda_blas.cc:1515] Unable to register cuBLAS factory: Attempting to register factory for plugin cuBLAS when one has already been registered\r\n",
      "-------------------- Hyper-parameters initialization -----------------------\r\n",
      "-------------------- ------------------------------- -----------------------\r\n",
      "-------------------- Dataset initialization -----------------------\r\n",
      "Number of training samples: 522\r\n",
      "-------------------- ------------------------------- -----------------------\r\n",
      "-------------------- Model initialization -----------------------\r\n",
      "-------------------- ------------------------------- -----------------------\r\n",
      "--------------------  Optimizer and loss function initialization -----------------------\r\n",
      "-------------------- ------------------------------- -----------------------\r\n",
      "-------------------- Train -----------------------\r\n",
      "Epoch 1: Iteration 522/522: Generator (U-Net) loss: 6.1995575304689075, Discrimi\r\n",
      "Epoch 2: Iteration 522/522: Generator (U-Net) loss: 5.096530285374872, Discrimin\r\n",
      "Epoch 3: Iteration 522/522: Generator (U-Net) loss: 5.071037904512837, Discrimin\r\n",
      "Epoch 4: Iteration 522/522: Generator (U-Net) loss: 5.198840544141572, Discrimin\r\n",
      "Epoch 5: Iteration 522/522: Generator (U-Net) loss: 5.422560629260038, Discrimin\r\n",
      "Epoch 6: Iteration 522/522: Generator (U-Net) loss: 4.487834866019501, Discrimin\r\n",
      "Epoch 7: Iteration 522/522: Generator (U-Net) loss: 4.218536676574941, Discrimin\r\n",
      "Epoch 8: Iteration 522/522: Generator (U-Net) loss: 3.9043045053080125, Discrimi\r\n",
      "Epoch 9: Iteration 522/522: Generator (U-Net) loss: 4.102857086393568, Discrimin\r\n",
      "Epoch 10: Iteration 522/522: Generator (U-Net) loss: 3.9959762539443386, Discrim\r\n",
      "Epoch 11: Iteration 522/522: Generator (U-Net) loss: 3.766449590295667, Discrimi\r\n",
      "Epoch 12: Iteration 522/522: Generator (U-Net) loss: 3.7630276848986686, Discrim\r\n",
      "Epoch 13: Iteration 522/522: Generator (U-Net) loss: 3.7476863941013585, Discrim\r\n",
      "Epoch 14: Iteration 522/522: Generator (U-Net) loss: 3.555061990730607, Discrimi\r\n",
      "Epoch 15: Iteration 522/522: Generator (U-Net) loss: 3.4841724789462325, Discrim\r\n",
      "Epoch 16: Iteration 522/522: Generator (U-Net) loss: 3.43315652412473, Discrimin\r\n",
      "Epoch 17: Iteration 522/522: Generator (U-Net) loss: 3.342287808999248, Discrimi\r\n",
      "Epoch 18: Iteration 522/522: Generator (U-Net) loss: 3.337551948667943, Discrimi\r\n",
      "Epoch 19: Iteration 522/522: Generator (U-Net) loss: 3.2649579148639662, Discrim\r\n",
      "Epoch 20: Iteration 522/522: Generator (U-Net) loss: 3.4121790274806405, Discrim\r\n"
     ]
    }
   ],
   "source": [
    "!python train.py"
   ]
  },
  {
   "cell_type": "code",
   "execution_count": null,
   "id": "b24a9e39",
   "metadata": {
    "papermill": {
     "duration": 0.85141,
     "end_time": "2024-02-15T16:52:38.751572",
     "exception": false,
     "start_time": "2024-02-15T16:52:37.900162",
     "status": "completed"
    },
    "tags": []
   },
   "outputs": [],
   "source": []
  }
 ],
 "metadata": {
  "kaggle": {
   "accelerator": "gpu",
   "dataSources": [
    {
     "datasetId": 4445546,
     "sourceId": 7629980,
     "sourceType": "datasetVersion"
    }
   ],
   "dockerImageVersionId": 30648,
   "isGpuEnabled": true,
   "isInternetEnabled": true,
   "language": "python",
   "sourceType": "notebook"
  },
  "kernelspec": {
   "display_name": "Python 3",
   "language": "python",
   "name": "python3"
  },
  "language_info": {
   "codemirror_mode": {
    "name": "ipython",
    "version": 3
   },
   "file_extension": ".py",
   "mimetype": "text/x-python",
   "name": "python",
   "nbconvert_exporter": "python",
   "pygments_lexer": "ipython3",
   "version": "3.10.13"
  },
  "papermill": {
   "default_parameters": {},
   "duration": 19975.44714,
   "end_time": "2024-02-15T16:52:39.963169",
   "environment_variables": {},
   "exception": null,
   "input_path": "__notebook__.ipynb",
   "output_path": "__notebook__.ipynb",
   "parameters": {},
   "start_time": "2024-02-15T11:19:44.516029",
   "version": "2.5.0"
  }
 },
 "nbformat": 4,
 "nbformat_minor": 5
}
